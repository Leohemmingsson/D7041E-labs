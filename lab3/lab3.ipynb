{
 "cells": [
  {
   "cell_type": "code",
   "execution_count": 22,
   "metadata": {},
   "outputs": [],
   "source": [
    "from matplotlib import pyplot as plt\n",
    "from scipy import spatial\n",
    "from sklearn import metrics\n",
    "from sklearn.metrics import confusion_matrix\n",
    "from sklearn.metrics import f1_score\n",
    "import matplotlib.pyplot as plt\n",
    "import numpy as np\n",
    "import os\n",
    "import pandas as pd\n",
    "import re\n",
    "import string\n",
    "import unidecode as un"
   ]
  },
  {
   "cell_type": "markdown",
   "metadata": {},
   "source": [
    "## Import files"
   ]
  },
  {
   "cell_type": "code",
   "execution_count": 9,
   "metadata": {},
   "outputs": [
    {
     "name": "stdout",
     "output_type": "stream",
     "text": [
      "21\n"
     ]
    }
   ],
   "source": [
    "letters = \" abcdefghijklmnopqrstuvwxyz\"\n",
    "files = []\n",
    "for _, _, files in os.walk(\"languages\"):\n",
    "    files = files\n",
    "    break\n",
    "\n",
    "for one_filename in files:\n",
    "    i = 0\n",
    "    for file in os.listdir(\"txt/\" + one_filename):\n",
    "        if(i < 10):\n",
    "            data = open(\"txt/\" + one_filename + \"/\"+ file, mode = \"r\", encoding = \"utf8\")\n",
    "            for line in data:\n",
    "                dt = un.unidecode(line).lower()\n",
    "                for x in dt:\n",
    "                    if(x not in letters):\n",
    "                        dt = dt.replace(x, '')\n",
    "                ngrams = [dt[i:i+n] for i in range(len(dt)-1)]\n",
    "                for ngram in ngrams:\n",
    "                    if (s_dict.get(ngram) is None):\n",
    "                        s_dict[ngram] = 1\n",
    "                    else:\n",
    "                        s_dict[ngram] += 1\n",
    "            testS.append(s_dict)\n",
    "            testingLabels.append(one_filename)\n",
    "            s_dict = {}\n",
    "            i += 1\n",
    "        else:\n",
    "            pass\n",
    "\n",
    "print(len(files))"
   ]
  }
 ],
 "metadata": {
  "kernelspec": {
   "display_name": "venv",
   "language": "python",
   "name": "python3"
  },
  "language_info": {
   "codemirror_mode": {
    "name": "ipython",
    "version": 3
   },
   "file_extension": ".py",
   "mimetype": "text/x-python",
   "name": "python",
   "nbconvert_exporter": "python",
   "pygments_lexer": "ipython3",
   "version": "3.10.12"
  }
 },
 "nbformat": 4,
 "nbformat_minor": 2
}
