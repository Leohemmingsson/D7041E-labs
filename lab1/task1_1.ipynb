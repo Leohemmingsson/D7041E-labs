{
 "cells": [
  {
   "cell_type": "markdown",
   "metadata": {},
   "source": [
    "## Task 1.1 Import your own dataset into Jupyter environment"
   ]
  },
  {
   "cell_type": "code",
   "execution_count": 114,
   "metadata": {},
   "outputs": [],
   "source": [
    "import numpy as np\n",
    "import PIL.Image\n",
    "import matplotlib.pyplot as plt\n",
    "import os "
   ]
  },
  {
   "cell_type": "code",
   "execution_count": 115,
   "metadata": {},
   "outputs": [],
   "source": [
    "def get_images() -> list:\n",
    "    image_folder_path = \"./images\"\n",
    "    \n",
    "    image_paths = []\n",
    "    for _, _,files in os.walk(image_folder_path):\n",
    "        image_paths = files\n",
    "        break\n",
    "\n",
    "    images_list = []\n",
    "\n",
    "    for img_file in image_paths:\n",
    "        # Open the image\n",
    "        img_path = os.path.join(image_folder_path, img_file)\n",
    "        with PIL.Image.open(img_path) as img:\n",
    "            # Convert to RGB (in case it's a different mode like RGBA or grayscale)\n",
    "            img = img.convert('RGB')\n",
    "            \n",
    "            x = y = 32\n",
    "            # Resize to desired resolution (x,y)\n",
    "            img = img.resize((x, y))\n",
    "            \n",
    "            # Convert to numpy array\n",
    "            img_array = np.array(img)\n",
    "            \n",
    "            # Append to the list\n",
    "            images_list.append(img_array)\n",
    "\n",
    "    \n",
    "    dataset_array = np.stack(images_list, axis=0)\n",
    "    # set of numpy arrays (n, x, y, 3)\n",
    "\n",
    "    return dataset_array"
   ]
  },
  {
   "cell_type": "code",
   "execution_count": 116,
   "metadata": {},
   "outputs": [],
   "source": [
    "def PlotSample(sample_image):\n",
    "    plt.imshow(sample_image)\n",
    "    plt.axis('off')  # Hide axes\n",
    "    plt.show()"
   ]
  },
  {
   "cell_type": "code",
   "execution_count": 117,
   "metadata": {},
   "outputs": [
    {
     "data": {
      "image/png": "[encoded data removed]",
      "text/plain": [
       "<Figure size 640x480 with 1 Axes>"
      ]
     },
     "metadata": {},
     "output_type": "display_data"
    }
   ],
   "source": [
    "x = get_images()\n",
    "PlotSample(x[2])"
   ]
  },
  {
   "cell_type": "markdown",
   "metadata": {},
   "source": [
    "## Follow the tutorial “Preprocessing for deep learning”"
   ]
  },
  {
   "cell_type": "code",
   "execution_count": 118,
   "metadata": {},
   "outputs": [],
   "source": [
    "def reshape(images: np.array) -> np.array:\n",
    "    # Reshape to (n, x*y*3)\n",
    "    return images.reshape(images.shape[0], images.shape[1]*images.shape[2]*images.shape[3])"
   ]
  },
  {
   "cell_type": "code",
   "execution_count": 119,
   "metadata": {},
   "outputs": [],
   "source": [
    "def plot_reshaped(image: np.array) -> None:\n",
    "    # Plot reshaped images\n",
    "    x = y = 32\n",
    "    plt.imshow(image.reshape(x, y, 3))\n",
    "    plt.axis('off')  # Hide axes\n",
    "    plt.show()"
   ]
  },
  {
   "cell_type": "code",
   "execution_count": 120,
   "metadata": {},
   "outputs": [
    {
     "data": {
      "image/png": "[encoded data removed]",
      "text/plain": [
       "<Figure size 640x480 with 1 Axes>"
      ]
     },
     "metadata": {},
     "output_type": "display_data"
    }
   ],
   "source": [
    "image = reshape(x)\n",
    "plot_reshaped(image[1, :])"
   ]
  },
  {
   "cell_type": "code",
   "execution_count": 124,
   "metadata": {},
   "outputs": [],
   "source": [
    "def get_ZCA_rescaled(image, epsilon: float = 0.1) -> np.array:\n",
    "    normalized = image / 255\n",
    "    normalized = normalized - normalized.mean(axis=0)\n",
    "    cov = np.cov(normalized, rowvar=False)\n",
    "    U, S, V = np.linalg.svd(cov)\n",
    "    print(U.shape, S.shape, V.shape)\n",
    "    X_ZCA = U.dot(np.diag(1.0/np.sqrt(S + epsilon))).dot(U.T).dot(normalized.T).T\n",
    "    X_ZCA_rescaled = (X_ZCA - X_ZCA.min()) / (X_ZCA.max() - X_ZCA.min())\n",
    "    return X_ZCA_rescaled"
   ]
  },
  {
   "cell_type": "code",
   "execution_count": 125,
   "metadata": {},
   "outputs": [
    {
     "name": "stdout",
     "output_type": "stream",
     "text": [
      "(3072, 3072) (3072,) (3072, 3072)\n"
     ]
    },
    {
     "data": {
      "image/png": "[encoded data removed]",
      "text/plain": [
       "<Figure size 640x480 with 1 Axes>"
      ]
     },
     "metadata": {},
     "output_type": "display_data"
    }
   ],
   "source": [
    "x = get_images()\n",
    "image = reshape(x)\n",
    "whitened_images = get_ZCA_rescaled(image)\n",
    "plot_reshaped(whitened_images[1, :])"
   ]
  }
 ],
 "metadata": {
  "kernelspec": {
   "display_name": "venv",
   "language": "python",
   "name": "python3"
  },
  "language_info": {
   "codemirror_mode": {
    "name": "ipython",
    "version": 3
   },
   "file_extension": ".py",
   "mimetype": "text/x-python",
   "name": "python",
   "nbconvert_exporter": "python",
   "pygments_lexer": "ipython3",
   "version": "3.10.12"
  }
 },
 "nbformat": 4,
 "nbformat_minor": 2
}
